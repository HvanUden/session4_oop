{
 "cells": [
  {
   "attachments": {},
   "cell_type": "markdown",
   "metadata": {},
   "source": [
    "# OOP Exercises\n",
    "\n",
    "Alright, let's get some practice with classes and objects! Can you write a `Word` class that takes a word root, and has a `.get_root()` method and a `.get_text()` method? (For now, both these methods can produce the same result: they will just return the word root)"
   ]
  },
  {
   "cell_type": "code",
   "execution_count": null,
   "metadata": {},
   "outputs": [],
   "source": [
    "class Word:\n",
    "    pass  # Remove this line, and replace it with your code"
   ]
  },
  {
   "attachments": {},
   "cell_type": "markdown",
   "metadata": {},
   "source": [
    "You can run the code below to test whether your code works, and it should output the following:\n",
    "```\n",
    "test\n",
    "True\n",
    "```"
   ]
  },
  {
   "cell_type": "code",
   "execution_count": null,
   "metadata": {},
   "outputs": [],
   "source": [
    "word = Word('test')\n",
    "print(word.get_text())\n",
    "print(word.get_text() == word.get_root())"
   ]
  },
  {
   "attachments": {},
   "cell_type": "markdown",
   "metadata": {},
   "source": [
    "Now, can you write the following two **subclasses** which inherit from `Word`:\n",
    "\n",
    "- `Noun`, which takes a root and boolean (True/False) plural value, and appends an \"s\" to the word when using `.get_text()` when plural is True;\n",
    "- `Verb`, which takes a root, plural (True/False), tense ('past' or 'present'), and person (1, 2, or 3), and appends an \"s\" or \"ed\" to the word when using `.get_text()` (you can ignore irregular verbs)."
   ]
  },
  {
   "cell_type": "code",
   "execution_count": null,
   "metadata": {},
   "outputs": [],
   "source": [
    "class Noun(Word):\n",
    "    pass  # Remove this line, and replace it with your code\n",
    "\n",
    "class Verb(Word):\n",
    "    pass  # Remove this line, and replace it with your code\n",
    "\n",
    "class Article(Word):\n",
    "    pass  # You can leave this line as is!"
   ]
  },
  {
   "attachments": {},
   "cell_type": "markdown",
   "metadata": {},
   "source": [
    "Run the code below to check; it should produce the following output:\n",
    "```\n",
    "the\n",
    "cats\n",
    "chase\n",
    "a\n",
    "mouse\n",
    "```"
   ]
  },
  {
   "cell_type": "code",
   "execution_count": null,
   "metadata": {},
   "outputs": [],
   "source": [
    "the = Article('the')\n",
    "cat = Noun('cat', plural=True)\n",
    "chase = Verb('chase', tense='past', person=3, plural=True)\n",
    "a = Article('a')\n",
    "mouse = Noun('mouse', plural=False)\n",
    "\n",
    "phrase = [the, cat, chase, a, mouse]\n",
    "for word in phrase:\n",
    "    print(word.get_text())"
   ]
  },
  {
   "attachments": {},
   "cell_type": "markdown",
   "metadata": {},
   "source": [
    "Okay! Let's build this out a little bit. Can you write a `Phrase` class which takes in a list of words, and has the methods `.get_words()` (which returns the list) and `.get_text()` (which uses `self.get_words()` and returns a string of those words separated by spaces)? _Hint: You can concatenate a `list` with spaces as separators using `' '.join(your_list)`._"
   ]
  },
  {
   "cell_type": "code",
   "execution_count": null,
   "metadata": {},
   "outputs": [],
   "source": [
    "class Phrase:\n",
    "    pass  # Remove this line, and replace it with your code"
   ]
  },
  {
   "attachments": {},
   "cell_type": "markdown",
   "metadata": {},
   "source": [
    "Run the code below again! It should now output:\n",
    "`the cats chase a mouse`"
   ]
  },
  {
   "cell_type": "code",
   "execution_count": null,
   "metadata": {},
   "outputs": [],
   "source": [
    "phrase = Phrase(the, cat, chase, a, mouse)\n",
    "print(phrase.get_text())"
   ]
  },
  {
   "attachments": {},
   "cell_type": "markdown",
   "metadata": {},
   "source": [
    "Now, implement two new subclasses of `Phrase`:\n",
    "\n",
    "- `NounPhrase`, which takes a noun and a list of modifiers; when calling `.get_words()`, make sure to return a list that first contains all the modifiers and ends with the noun (you can add a single word to a list using `your_list + [your_word]`).\n",
    "- `VerbPhrase`, which takes a verb and a direct_object (a phrase); when calling `.get_words()`, make sure to return a list that first contains the verb and then the direct object phrase (you could do this using something like `[single_word] + phrase.get_words()`).\n",
    "- `Sentence`, which takes a subject and a predicate (both phrases); when calling `.get_words()`, make sure to return a list that first contains the subject and then the predicate phrase (you could do this using something like `first_phrase.get_words() + second_phrase.get_words()`)."
   ]
  },
  {
   "cell_type": "code",
   "execution_count": null,
   "metadata": {},
   "outputs": [],
   "source": [
    "class NounPhrase(Phrase):\n",
    "    pass  # Remove this line, and replace it with your code\n",
    "\n",
    "class VerbPhrase(Phrase):\n",
    "    pass  # Remove this line, and replace it with your code\n",
    "\n",
    "class Sentence(Phrase):\n",
    "    pass  # Remove this line, and replace it with your code"
   ]
  },
  {
   "attachments": {},
   "cell_type": "markdown",
   "metadata": {},
   "source": [
    "The code below should now tell you: `the cats chase a mouse`"
   ]
  },
  {
   "cell_type": "code",
   "execution_count": null,
   "metadata": {},
   "outputs": [],
   "source": [
    "cat_np = NounPhrase(noun=cat, modifiers=[the])\n",
    "mouse_np = NounPhrase(noun=mouse, modifiers=[a])\n",
    "chase_vp = VerbPhrase(verb=chase, direct_object=mouse_np)\n",
    "sentence = Sentence(subject=cat_np, verb_phrase=chase_vp)\n",
    "print(sentence.get_text())"
   ]
  },
  {
   "attachments": {},
   "cell_type": "markdown",
   "metadata": {},
   "source": [
    "Can you change the `Sentence` class to override the `.get_text()` method, so that it capitalizes the first letter and adds a period at the end? This should then produce the output `The cats chase a mouse.`"
   ]
  }
 ],
 "metadata": {
  "language_info": {
   "name": "python"
  },
  "orig_nbformat": 4
 },
 "nbformat": 4,
 "nbformat_minor": 2
}
