{
 "cells": [
  {
   "attachments": {},
   "cell_type": "markdown",
   "metadata": {},
   "source": [
    "# OOP Exercises\n",
    "\n",
    "Alright, let's get some practice with classes and objects! Can you write a `Word` class that takes a word root, and has a `.get_root()` method and a `.get_text()` method? (For now, both these methods can produce the same result: they will just return the word root)"
   ]
  },
  {
   "cell_type": "code",
   "execution_count": 25,
   "metadata": {},
   "outputs": [],
   "source": [
    "class Word:\n",
    "    def __init__(self, root):\n",
    "        self.root = root\n",
    "    \n",
    "    def get_root(self):\n",
    "        return self.root\n",
    "    \n",
    "    def get_text(self):\n",
    "        return self.root\n",
    "    \n",
    "    def __str__(self):\n",
    "        return self.get_text()"
   ]
  },
  {
   "attachments": {},
   "cell_type": "markdown",
   "metadata": {},
   "source": [
    "You can run the code below to test whether your code works, and it should output the following:\n",
    "```\n",
    "test\n",
    "True\n",
    "```"
   ]
  },
  {
   "cell_type": "code",
   "execution_count": 26,
   "metadata": {},
   "outputs": [
    {
     "name": "stdout",
     "output_type": "stream",
     "text": [
      "test\n",
      "True\n"
     ]
    }
   ],
   "source": [
    "word = Word('test')\n",
    "print(word.get_text())\n",
    "print(word.get_text() == word.get_root())"
   ]
  },
  {
   "attachments": {},
   "cell_type": "markdown",
   "metadata": {},
   "source": [
    "Now, can you write the following two **subclasses** which inherit from `Word`:\n",
    "\n",
    "- `Noun`, which takes a root and boolean (True/False) plural value, and appends an \"s\" to the word when using `.get_text()` when plural is True;\n",
    "- `Verb`, which takes a root, plural (True/False), tense ('past' or 'present'), and person (1, 2, or 3), and appends an \"s\" or \"ed\" to the word when using `.get_text()` (you can ignore irregular verbs)."
   ]
  },
  {
   "cell_type": "code",
   "execution_count": 27,
   "metadata": {},
   "outputs": [],
   "source": [
    "class Noun(Word):\n",
    "    def __init__(self, root, plural):\n",
    "        self.root = root\n",
    "        self.plural = plural\n",
    "    \n",
    "    def get_text(self):\n",
    "        if self.plural:\n",
    "            return self.root + 's'\n",
    "        else:\n",
    "            return self.root\n",
    "\n",
    "class Verb(Word):\n",
    "    def __init__(self, root, tense, person, plural):\n",
    "        self.root = root\n",
    "        self.tense = tense\n",
    "        self.person = person\n",
    "        self.plural = plural\n",
    "    \n",
    "    def get_text(self):\n",
    "        if self.tense == 'past':\n",
    "            if self.root[-1] == 'e':\n",
    "                return self.root + 'd'\n",
    "            else:\n",
    "                return self.root + 'ed'\n",
    "        elif self.tense == 'present':\n",
    "            if not self.plural and self.person == 3:\n",
    "                return self.root + 's'\n",
    "            else:\n",
    "                return self.root\n",
    "\n",
    "class Article(Word):\n",
    "    pass  # You can leave this line as is!"
   ]
  },
  {
   "attachments": {},
   "cell_type": "markdown",
   "metadata": {},
   "source": [
    "Run the code below to check; it should produce the following output:\n",
    "```\n",
    "the\n",
    "cats\n",
    "chased\n",
    "a\n",
    "mouse\n",
    "```"
   ]
  },
  {
   "cell_type": "code",
   "execution_count": 28,
   "metadata": {},
   "outputs": [
    {
     "name": "stdout",
     "output_type": "stream",
     "text": [
      "the\n",
      "cats\n",
      "chased\n",
      "a\n",
      "mouse\n"
     ]
    }
   ],
   "source": [
    "the = Article('the')\n",
    "cat = Noun('cat', plural=True)\n",
    "chase = Verb('chase', tense='past', person=3, plural=True)\n",
    "a = Article('a')\n",
    "mouse = Noun('mouse', plural=False)\n",
    "\n",
    "phrase = [the, cat, chase, a, mouse]\n",
    "for word in phrase:\n",
    "    print(word.get_text())"
   ]
  },
  {
   "attachments": {},
   "cell_type": "markdown",
   "metadata": {},
   "source": [
    "Okay! Let's build this out a little bit. Can you write a `Phrase` class which takes in a list of words, and has the methods `.get_words()` (which returns the list) and `.get_text()` (which uses `self.get_words()` and returns a string of those words separated by spaces)? _Hint: You can concatenate a `list` with spaces as separators using `' '.join(your_list)`._"
   ]
  },
  {
   "cell_type": "code",
   "execution_count": 29,
   "metadata": {},
   "outputs": [],
   "source": [
    "class Phrase:\n",
    "    def __init__(self, words):\n",
    "        self.words = words\n",
    "    \n",
    "    def get_words(self):\n",
    "        return self.words\n",
    "\n",
    "    def get_text(self):\n",
    "        return ' '.join([word.get_text() for word in self.get_words()])\n",
    "    \n",
    "    def __str__(self):\n",
    "        return self.get_text()"
   ]
  },
  {
   "attachments": {},
   "cell_type": "markdown",
   "metadata": {},
   "source": [
    "Run the code below again! It should now output:\n",
    "`the cats chased a mouse`"
   ]
  },
  {
   "cell_type": "code",
   "execution_count": 30,
   "metadata": {},
   "outputs": [
    {
     "name": "stdout",
     "output_type": "stream",
     "text": [
      "the cats chased a mouse\n"
     ]
    }
   ],
   "source": [
    "phrase = Phrase([the, cat, chase, a, mouse])\n",
    "print(phrase.get_text())"
   ]
  },
  {
   "attachments": {},
   "cell_type": "markdown",
   "metadata": {},
   "source": [
    "Now, implement two new subclasses of `Phrase`:\n",
    "\n",
    "- `NounPhrase`, which takes a noun and a list of modifiers; when calling `.get_words()`, make sure to return a list that first contains all the modifiers and ends with the noun (you can add a single word to a list using `your_list + [your_word]`).\n",
    "- `VerbPhrase`, which takes a verb and a direct_object (a phrase); when calling `.get_words()`, make sure to return a list that first contains the verb and then the direct object phrase (you could do this using something like `[single_word] + phrase.get_words()`).\n",
    "- `Sentence`, which takes a subject and a predicate (both phrases); when calling `.get_words()`, make sure to return a list that first contains the subject and then the predicate phrase (you could do this using something like `first_phrase.get_words() + second_phrase.get_words()`)."
   ]
  },
  {
   "cell_type": "code",
   "execution_count": 31,
   "metadata": {},
   "outputs": [],
   "source": [
    "class NounPhrase(Phrase):\n",
    "    def __init__(self, noun, modifiers):\n",
    "        self.noun = noun\n",
    "        self.modifiers = modifiers\n",
    "        self.words = modifiers + [noun]\n",
    "\n",
    "class VerbPhrase(Phrase):\n",
    "    def __init__(self, verb, direct_object):\n",
    "        self.verb = verb\n",
    "        self.direct_object = direct_object\n",
    "        self.words = [verb] + direct_object.get_words()\n",
    "\n",
    "class Sentence(Phrase):\n",
    "    def __init__(self, subject, predicate):\n",
    "        self.subject = subject\n",
    "        self.predicate = predicate\n",
    "        self.words = subject.get_words() + predicate.get_words()\n",
    "    \n",
    "    def get_text(self):\n",
    "        # This is the way you know how to do it:\n",
    "        # return ' '.join([word.get_text() for word in self.get_words()]).capitalize() + '.'\n",
    "        # But you can also do it this way, which uses the get_text() method of the Phrase class:\n",
    "        return super().get_text().capitalize() + '.'"
   ]
  },
  {
   "attachments": {},
   "cell_type": "markdown",
   "metadata": {},
   "source": [
    "The code below should now tell you: `the cats chased a mouse`"
   ]
  },
  {
   "cell_type": "code",
   "execution_count": 32,
   "metadata": {},
   "outputs": [
    {
     "name": "stdout",
     "output_type": "stream",
     "text": [
      "The cats chased a mouse.\n"
     ]
    }
   ],
   "source": [
    "cat_np = NounPhrase(noun=cat, modifiers=[the])\n",
    "mouse_np = NounPhrase(noun=mouse, modifiers=[a])\n",
    "chase_vp = VerbPhrase(verb=chase, direct_object=mouse_np)\n",
    "sentence = Sentence(subject=cat_np, predicate=chase_vp)\n",
    "print(sentence.get_text())"
   ]
  },
  {
   "attachments": {},
   "cell_type": "markdown",
   "metadata": {},
   "source": [
    "Can you change the `Sentence` class to override the `.get_text()` method, so that it capitalizes the first letter and adds a period at the end? This should then produce the output `The cats chased a mouse.`\n",
    "\n",
    "When you're done, try to create some other (simple) sentences in this way! Perhaps you can also add `Adjective`s? Eventually, structuring your sentences like this allows for much richer operations, like changing the tense of a sentence, or changing it from active into passive voice. Those things would be much harder when you were just using strings to represent that same information!"
   ]
  }
 ],
 "metadata": {
  "kernelspec": {
   "display_name": "Python 3",
   "language": "python",
   "name": "python3"
  },
  "language_info": {
   "codemirror_mode": {
    "name": "ipython",
    "version": 3
   },
   "file_extension": ".py",
   "mimetype": "text/x-python",
   "name": "python",
   "nbconvert_exporter": "python",
   "pygments_lexer": "ipython3",
   "version": "3.9.1"
  },
  "orig_nbformat": 4,
  "vscode": {
   "interpreter": {
    "hash": "a08a15a238e0718fa26ab23a79d3d6571851a413b009f8e99b17055ed3ce6bcd"
   }
  }
 },
 "nbformat": 4,
 "nbformat_minor": 2
}
