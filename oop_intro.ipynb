{
 "cells": [
  {
   "attachments": {},
   "cell_type": "markdown",
   "metadata": {},
   "source": [
    "# Object-Oriented Programming (OOP)\n",
    "\n",
    "In today's session, we're going to talk about a _programming paradigm_, rather than a specific application of programming in Python. Many languages support Object-Oriented Programming (OOP) in one way or another, and it can be a powerful tool to help you write cleaner and more readable code.\n",
    "\n",
    "Before we start talking about OOP, let's first cover something we're already familiar with in a new way: **functions**.\n",
    "\n",
    "We have seen how to _use_ functions, but we can actually create them ourselves as well!"
   ]
  },
  {
   "cell_type": "code",
   "execution_count": 2,
   "metadata": {},
   "outputs": [],
   "source": [
    "def hello_world():\n",
    "    print('Hello world')"
   ]
  },
  {
   "cell_type": "code",
   "execution_count": 3,
   "metadata": {},
   "outputs": [
    {
     "name": "stdout",
     "output_type": "stream",
     "text": [
      "Hello world\n"
     ]
    }
   ],
   "source": [
    "hello_world()"
   ]
  },
  {
   "attachments": {},
   "cell_type": "markdown",
   "metadata": {},
   "source": [
    "This is a very simple example, where we just assign a block of code some name (`hello_world`) and then run that code later (once, or multiple times). We can also _pass in_ **arguments** to a function, and **return** some result:"
   ]
  },
  {
   "cell_type": "code",
   "execution_count": 4,
   "metadata": {},
   "outputs": [],
   "source": [
    "import math\n",
    "\n",
    "def circle_area(diameter):\n",
    "    area = math.pow(diameter / 2, 2) * math.pi\n",
    "    return area"
   ]
  },
  {
   "cell_type": "code",
   "execution_count": 5,
   "metadata": {},
   "outputs": [],
   "source": [
    "circle_1_area = circle_area(2)\n",
    "circle_2_area = circle_area(5)\n",
    "square = 4 * 4\n",
    "rectangle = 3 * 5"
   ]
  },
  {
   "attachments": {},
   "cell_type": "markdown",
   "metadata": {},
   "source": [
    "As you can see, this makes our code quite a bit cleaner than when we would write out the formula both times. But let's take this a bit further! \n",
    "\n",
    "## Classes and Objects\n",
    "\n",
    "We have seen before that there are things in Python, so called **objects**, that can be of a specific types. You've actually worked with quite a few of them: `string`s, `list`s, `array`s, `DataFrame`s, `AudioSegment`s, `Image`s, and more! We have already seen that these objects can have **methods**: functions that belong to those objects and that perform operations on them.\n",
    "\n",
    "The definition of a type of object is typically called a **class**, and it is some code that describes what _every object of that class is like_! This is different from the actual object: a single image contains a bunch of specific pixels with particular colors, but the `Image` class is agnostic to what those pixels are: it simply defines what operations we can do on images, and what properties it has.\n",
    "\n",
    "Let's try and write a class ourselves!"
   ]
  },
  {
   "cell_type": "code",
   "execution_count": 6,
   "metadata": {},
   "outputs": [],
   "source": [
    "class Circle:\n",
    "    def __init__(self, diameter):\n",
    "        self.radius = diameter / 2\n",
    "    \n",
    "    def area(self):\n",
    "        return math.pow(self.radius, 2) * math.pi\n",
    "    \n",
    "    def __str__(self):\n",
    "        return f'Circle with radius {self.radius}'"
   ]
  },
  {
   "attachments": {},
   "cell_type": "markdown",
   "metadata": {},
   "source": [
    "Now, after defining our class, we still don't _have_ any circles. We've just described what they are like. To actually **instantiate** a circle, we can do the following:"
   ]
  },
  {
   "cell_type": "code",
   "execution_count": 7,
   "metadata": {},
   "outputs": [
    {
     "name": "stdout",
     "output_type": "stream",
     "text": [
      "Circle with radius 1.0\n",
      "3.141592653589793\n"
     ]
    }
   ],
   "source": [
    "example_circle = Circle(2)\n",
    "print(example_circle)\n",
    "print(example_circle.area())"
   ]
  },
  {
   "attachments": {},
   "cell_type": "markdown",
   "metadata": {},
   "source": [
    "**Exercise**: Can you write a `Rectangle` class now, which also has an `.area()` method?"
   ]
  },
  {
   "cell_type": "code",
   "execution_count": 10,
   "metadata": {},
   "outputs": [],
   "source": [
    "class Rectangle:\n",
    "    def __init__(self, width, height):\n",
    "        self.width = width\n",
    "        self.height = height\n",
    "    \n",
    "    def area(self):\n",
    "        return self.width * self.height\n",
    "    \n",
    "    def __str__(self):\n",
    "        return f'Rectangle of {self.width} x {self.height}'"
   ]
  },
  {
   "attachments": {},
   "cell_type": "markdown",
   "metadata": {},
   "source": [
    "You can run the code below to verify that this class works as expected. The output should be:\n",
    "\n",
    "```\n",
    "Rectangle of 3 x 4 (area 12)\n",
    "12\n",
    "```"
   ]
  },
  {
   "cell_type": "code",
   "execution_count": 11,
   "metadata": {},
   "outputs": [
    {
     "name": "stdout",
     "output_type": "stream",
     "text": [
      "Rectangle of 3 x 4\n",
      "12\n"
     ]
    }
   ],
   "source": [
    "example_rect = Rectangle(3, 4)\n",
    "print(example_rect)\n",
    "print(example_rect.area())"
   ]
  },
  {
   "attachments": {},
   "cell_type": "markdown",
   "metadata": {},
   "source": [
    "## Inheritance\n",
    "\n",
    "There is one more cool trick in the OOP playbook that we want to cover: **inheritance**. Sometimes, you want to describe a type of object that is an _extension_ of something that already exists: an `Image` could be an extension of a 2D `array`, an MRI slice could be an extension of an `Image`, an `ImageStim` could be an extension of `VisualStim` (and/or `Image`), etc.!\n",
    "\n",
    "As an example, let's look at what a `Square` would look like:"
   ]
  },
  {
   "cell_type": "code",
   "execution_count": 13,
   "metadata": {},
   "outputs": [],
   "source": [
    "class Square(Rectangle):\n",
    "    def __init__(self, side):\n",
    "        self.width = side\n",
    "        self.height = side"
   ]
  },
  {
   "attachments": {},
   "cell_type": "markdown",
   "metadata": {},
   "source": [
    "This looks a bit odd, because we _aren't defining any methods_ -- just setting the width and height to be the same. However, we can still calculate the area:"
   ]
  },
  {
   "cell_type": "code",
   "execution_count": 14,
   "metadata": {},
   "outputs": [
    {
     "name": "stdout",
     "output_type": "stream",
     "text": [
      "16\n"
     ]
    }
   ],
   "source": [
    "example_square = Square(4)\n",
    "print(example_square.area())"
   ]
  },
  {
   "attachments": {},
   "cell_type": "markdown",
   "metadata": {},
   "source": [
    "This is because we have indicated that `Square`s should **inherit** all methods and properties that `Rectangles` have! It's a neat trick which adds a logical structure to our code, and saves us some lines of code too.\n",
    "\n",
    "## Putting things together\n",
    "\n",
    "Let's use our new shape classes to show you how this can simplify your code, and make it more readable:"
   ]
  },
  {
   "cell_type": "code",
   "execution_count": 15,
   "metadata": {},
   "outputs": [
    {
     "name": "stdout",
     "output_type": "stream",
     "text": [
      "Circle with radius 1.0: 3.141592653589793\n",
      "Circle with radius 2.5: 19.634954084936208\n",
      "Rectangle of 4 x 4: 16\n",
      "Rectangle of 3 x 5: 15\n"
     ]
    }
   ],
   "source": [
    "shapes = [\n",
    "    Circle(2),\n",
    "    Circle(5),\n",
    "    Square(4),\n",
    "    Rectangle(3, 5)\n",
    "]\n",
    "\n",
    "for shape in shapes:\n",
    "    print(f'{shape}: {shape.area()}')"
   ]
  }
 ],
 "metadata": {
  "kernelspec": {
   "display_name": ".venv",
   "language": "python",
   "name": "python3"
  },
  "language_info": {
   "codemirror_mode": {
    "name": "ipython",
    "version": 3
   },
   "file_extension": ".py",
   "mimetype": "text/x-python",
   "name": "python",
   "nbconvert_exporter": "python",
   "pygments_lexer": "ipython3",
   "version": "3.9.13"
  },
  "orig_nbformat": 4,
  "vscode": {
   "interpreter": {
    "hash": "c86ebcff16447e210fa721baf920318e5af22015f32f0dfa6aa4c7560c6bfa1d"
   }
  }
 },
 "nbformat": 4,
 "nbformat_minor": 2
}
